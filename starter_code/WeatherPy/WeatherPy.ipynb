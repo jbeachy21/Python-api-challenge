{
 "cells": [
  {
   "cell_type": "markdown",
   "metadata": {},
   "source": [
    "# WeatherPy\n",
    "----\n",
    "\n",
    "#### Note\n",
    "* Instructions have been included for each segment. You do not have to follow them exactly, but they are included to help you think through the steps."
   ]
  },
  {
   "cell_type": "code",
   "execution_count": 69,
   "metadata": {
    "scrolled": true
   },
   "outputs": [],
   "source": [
    "from citipy import citipy\n",
    "import math\n",
    "import numpy as np\n",
    "import random\n",
    "import sys\n",
    "sys.path.append('../')\n",
    "from api_keys import weather_api_key\n",
    "import requests\n",
    "import pandas as pd\n",
    "import matplotlib.pyplot as plt\n",
    "from scipy import stats \n",
    "import json\n",
    " "
   ]
  },
  {
   "cell_type": "markdown",
   "metadata": {},
   "source": [
    "## Generate Cities List"
   ]
  },
  {
   "cell_type": "code",
   "execution_count": 70,
   "metadata": {
    "scrolled": false
   },
   "outputs": [],
   "source": [
    "#Create a list out of all the dictionary of coordinates : city object\n",
    "city = citipy.WORLD_CITIES_DICT\n",
    "#print(city[(40.7683333, -74.1458333)])\n",
    "\n",
    "#Create list out of coordinate tuples that are keys to citipy dictionary\n",
    "CityCoordinates = list(city.keys())\n",
    "\n",
    "\n",
    "#print(len(CityCoordinates))\n",
    "#CityCoordinates\n",
    " "
   ]
  },
  {
   "cell_type": "markdown",
   "metadata": {},
   "source": [
    "### Perform API Calls\n",
    "* Perform a weather check on each city using a series of successive API calls.\n",
    "* Include a print log of each city as it'sbeing processed (with the city number and city name).\n"
   ]
  },
  {
   "cell_type": "code",
   "execution_count": 71,
   "metadata": {
    "scrolled": true
   },
   "outputs": [
    {
     "name": "stdout",
     "output_type": "stream",
     "text": [
      "malveira, pt the weather is: 60.69\n",
      "kastella, gr the weather is: 56.39\n",
      "lakewood, us the weather is: 42.84\n",
      "dornesti, ro the weather is: 46.62\n",
      "ipero, br the weather is: 71.6\n",
      "brodek u prerova, cz the weather is: 53.98\n",
      "dumbraveni, ro the weather is: 46.2\n",
      "la palma, pa the weather is: 81.59\n",
      "imeni vorovskogo, ru the weather is: 42.8\n",
      "niort, fr the weather is: 54\n",
      "hurricane, us the weather is: 72.63\n",
      "el guantillo, hn the weather is: 73.15\n",
      "stekene, be the weather is: 53.28\n",
      "capaci, it the weather is: 61.99\n",
      "san vicente, ph the weather is: 79.65\n",
      "colon, cu the weather is: 75.2\n",
      "brosteni, ro the weather is: 55.58\n",
      "lugo, it the weather is: 55.33\n",
      "pucheni, ro the weather is: 41.02\n",
      "dunafoldvar, hu the weather is: 52.2\n"
     ]
    },
    {
     "data": {
      "text/plain": [
       "{'malveira, pt': 60.69,\n",
       " 'kastella, gr': 56.39,\n",
       " 'lakewood, us': 42.84,\n",
       " 'dornesti, ro': 46.62,\n",
       " 'ipero, br': 71.6,\n",
       " 'brodek u prerova, cz': 53.98,\n",
       " 'dumbraveni, ro': 46.2,\n",
       " 'la palma, pa': 81.59,\n",
       " 'imeni vorovskogo, ru': 42.8,\n",
       " 'niort, fr': 54,\n",
       " 'hurricane, us': 72.63,\n",
       " 'el guantillo, hn': 73.15,\n",
       " 'stekene, be': 53.28,\n",
       " 'capaci, it': 61.99,\n",
       " 'san vicente, ph': 79.65,\n",
       " 'colon, cu': 75.2,\n",
       " 'brosteni, ro': 55.58,\n",
       " 'lugo, it': 55.33,\n",
       " 'pucheni, ro': 41.02,\n",
       " 'dunafoldvar, hu': 52.2}"
      ]
     },
     "execution_count": 71,
     "metadata": {},
     "output_type": "execute_result"
    }
   ],
   "source": [
    "#Variable to limit the number of API calls I can make at any one time so that my API key doesn't get locked again...\n",
    "NumberOfCities = 20\n",
    "#Essentially shuffle and shorten list to length of x\n",
    "CityCoordinates = random.sample(CityCoordinates,NumberOfCities)\n",
    "units = \"imperial\"\n",
    "\n",
    "lat = 59.334591\n",
    "lon = 18.063240\n",
    "\n",
    "\n",
    "#print(len(CityCoordinates))\n",
    "weather_data = {}\n",
    "#url = f\"http://api.openweathermap.org/data/2.5/weather?lat={lat}&lon={lon}&appid={weather_api_key}&units={units}\"\n",
    "#response = requests.get(url).json()\n",
    "#print(f\"{currentcity.city_name},{currentcity.country_code} the weather is: {response['main']['temp']}\")\n",
    "responses = []\n",
    "for i in CityCoordinates:\n",
    "    lat = i[0]\n",
    "    lon = i[-1]\n",
    "    currentcity = citipy.nearest_city(lat,lon)\n",
    "    \n",
    "    country = currentcity.country_code \n",
    "    url = f\"http://api.openweathermap.org/data/2.5/weather?lat={lat}&lon={lon}&appid={weather_api_key}&units={units}\"\n",
    "    response = requests.get(url).json()\n",
    "     \n",
    "    print(f\"{currentcity.city_name}, {country} the weather is: {response['main']['temp']}\")\n",
    "    location = f\"{currentcity.city_name}, {country}\"\n",
    "    weather_data[location] = response['main']['temp']\n",
    "    responses.append(response)\n",
    "\n",
    "weather_data"
   ]
  },
  {
   "cell_type": "markdown",
   "metadata": {},
   "source": [
    "### Convert Raw Data to DataFrame\n",
    "* Export the city data into a .csv.\n",
    "* Display the DataFrame"
   ]
  },
  {
   "cell_type": "code",
   "execution_count": 72,
   "metadata": {},
   "outputs": [
    {
     "data": {
      "text/html": [
       "<div>\n",
       "<style scoped>\n",
       "    .dataframe tbody tr th:only-of-type {\n",
       "        vertical-align: middle;\n",
       "    }\n",
       "\n",
       "    .dataframe tbody tr th {\n",
       "        vertical-align: top;\n",
       "    }\n",
       "\n",
       "    .dataframe thead th {\n",
       "        text-align: right;\n",
       "    }\n",
       "</style>\n",
       "<table border=\"1\" class=\"dataframe\">\n",
       "  <thead>\n",
       "    <tr style=\"text-align: right;\">\n",
       "      <th></th>\n",
       "      <th>Temperature</th>\n",
       "      <th>Locations</th>\n",
       "      <th>Humidity</th>\n",
       "      <th>Latitude</th>\n",
       "      <th>Longitude</th>\n",
       "      <th>Wind Speed</th>\n",
       "      <th>Cloudiness</th>\n",
       "    </tr>\n",
       "  </thead>\n",
       "  <tbody>\n",
       "    <tr>\n",
       "      <th>0</th>\n",
       "      <td>60.69</td>\n",
       "      <td>malveira, pt</td>\n",
       "      <td>93</td>\n",
       "      <td>38.93</td>\n",
       "      <td>-9.26</td>\n",
       "      <td>12.75</td>\n",
       "      <td>75</td>\n",
       "    </tr>\n",
       "    <tr>\n",
       "      <th>1</th>\n",
       "      <td>56.39</td>\n",
       "      <td>kastella, gr</td>\n",
       "      <td>93</td>\n",
       "      <td>38.57</td>\n",
       "      <td>23.63</td>\n",
       "      <td>2.13</td>\n",
       "      <td>40</td>\n",
       "    </tr>\n",
       "    <tr>\n",
       "      <th>2</th>\n",
       "      <td>42.84</td>\n",
       "      <td>lakewood, us</td>\n",
       "      <td>48</td>\n",
       "      <td>41.48</td>\n",
       "      <td>-81.80</td>\n",
       "      <td>16.11</td>\n",
       "      <td>90</td>\n",
       "    </tr>\n",
       "    <tr>\n",
       "      <th>3</th>\n",
       "      <td>46.62</td>\n",
       "      <td>dornesti, ro</td>\n",
       "      <td>81</td>\n",
       "      <td>47.87</td>\n",
       "      <td>26.02</td>\n",
       "      <td>6.93</td>\n",
       "      <td>75</td>\n",
       "    </tr>\n",
       "    <tr>\n",
       "      <th>4</th>\n",
       "      <td>71.60</td>\n",
       "      <td>ipero, br</td>\n",
       "      <td>43</td>\n",
       "      <td>-23.35</td>\n",
       "      <td>-47.68</td>\n",
       "      <td>17.22</td>\n",
       "      <td>20</td>\n",
       "    </tr>\n",
       "    <tr>\n",
       "      <th>5</th>\n",
       "      <td>53.98</td>\n",
       "      <td>brodek u prerova, cz</td>\n",
       "      <td>99</td>\n",
       "      <td>49.48</td>\n",
       "      <td>17.34</td>\n",
       "      <td>1.99</td>\n",
       "      <td>100</td>\n",
       "    </tr>\n",
       "    <tr>\n",
       "      <th>6</th>\n",
       "      <td>46.20</td>\n",
       "      <td>dumbraveni, ro</td>\n",
       "      <td>87</td>\n",
       "      <td>46.23</td>\n",
       "      <td>24.57</td>\n",
       "      <td>4.70</td>\n",
       "      <td>90</td>\n",
       "    </tr>\n",
       "    <tr>\n",
       "      <th>7</th>\n",
       "      <td>81.59</td>\n",
       "      <td>la palma, pa</td>\n",
       "      <td>73</td>\n",
       "      <td>8.40</td>\n",
       "      <td>-78.15</td>\n",
       "      <td>12.39</td>\n",
       "      <td>72</td>\n",
       "    </tr>\n",
       "    <tr>\n",
       "      <th>8</th>\n",
       "      <td>42.80</td>\n",
       "      <td>imeni vorovskogo, ru</td>\n",
       "      <td>100</td>\n",
       "      <td>55.73</td>\n",
       "      <td>38.32</td>\n",
       "      <td>6.71</td>\n",
       "      <td>90</td>\n",
       "    </tr>\n",
       "    <tr>\n",
       "      <th>9</th>\n",
       "      <td>54.00</td>\n",
       "      <td>niort, fr</td>\n",
       "      <td>87</td>\n",
       "      <td>46.32</td>\n",
       "      <td>-0.46</td>\n",
       "      <td>3.00</td>\n",
       "      <td>99</td>\n",
       "    </tr>\n",
       "    <tr>\n",
       "      <th>10</th>\n",
       "      <td>72.63</td>\n",
       "      <td>hurricane, us</td>\n",
       "      <td>15</td>\n",
       "      <td>37.18</td>\n",
       "      <td>-113.29</td>\n",
       "      <td>16.11</td>\n",
       "      <td>40</td>\n",
       "    </tr>\n",
       "    <tr>\n",
       "      <th>11</th>\n",
       "      <td>73.15</td>\n",
       "      <td>el guantillo, hn</td>\n",
       "      <td>94</td>\n",
       "      <td>14.60</td>\n",
       "      <td>-87.30</td>\n",
       "      <td>13.87</td>\n",
       "      <td>75</td>\n",
       "    </tr>\n",
       "    <tr>\n",
       "      <th>12</th>\n",
       "      <td>53.28</td>\n",
       "      <td>stekene, be</td>\n",
       "      <td>85</td>\n",
       "      <td>51.20</td>\n",
       "      <td>4.03</td>\n",
       "      <td>4.00</td>\n",
       "      <td>0</td>\n",
       "    </tr>\n",
       "    <tr>\n",
       "      <th>13</th>\n",
       "      <td>61.99</td>\n",
       "      <td>capaci, it</td>\n",
       "      <td>72</td>\n",
       "      <td>38.17</td>\n",
       "      <td>13.23</td>\n",
       "      <td>9.17</td>\n",
       "      <td>0</td>\n",
       "    </tr>\n",
       "    <tr>\n",
       "      <th>14</th>\n",
       "      <td>79.65</td>\n",
       "      <td>san vicente, ph</td>\n",
       "      <td>73</td>\n",
       "      <td>18.51</td>\n",
       "      <td>122.15</td>\n",
       "      <td>13.89</td>\n",
       "      <td>100</td>\n",
       "    </tr>\n",
       "    <tr>\n",
       "      <th>15</th>\n",
       "      <td>75.20</td>\n",
       "      <td>colon, cu</td>\n",
       "      <td>100</td>\n",
       "      <td>22.72</td>\n",
       "      <td>-80.91</td>\n",
       "      <td>17.22</td>\n",
       "      <td>75</td>\n",
       "    </tr>\n",
       "    <tr>\n",
       "      <th>16</th>\n",
       "      <td>55.58</td>\n",
       "      <td>brosteni, ro</td>\n",
       "      <td>67</td>\n",
       "      <td>44.76</td>\n",
       "      <td>22.98</td>\n",
       "      <td>1.34</td>\n",
       "      <td>100</td>\n",
       "    </tr>\n",
       "    <tr>\n",
       "      <th>17</th>\n",
       "      <td>55.33</td>\n",
       "      <td>lugo, it</td>\n",
       "      <td>93</td>\n",
       "      <td>44.42</td>\n",
       "      <td>11.90</td>\n",
       "      <td>1.01</td>\n",
       "      <td>93</td>\n",
       "    </tr>\n",
       "    <tr>\n",
       "      <th>18</th>\n",
       "      <td>41.02</td>\n",
       "      <td>pucheni, ro</td>\n",
       "      <td>83</td>\n",
       "      <td>45.18</td>\n",
       "      <td>25.28</td>\n",
       "      <td>1.01</td>\n",
       "      <td>100</td>\n",
       "    </tr>\n",
       "    <tr>\n",
       "      <th>19</th>\n",
       "      <td>52.20</td>\n",
       "      <td>dunafoldvar, hu</td>\n",
       "      <td>100</td>\n",
       "      <td>46.81</td>\n",
       "      <td>18.93</td>\n",
       "      <td>2.24</td>\n",
       "      <td>75</td>\n",
       "    </tr>\n",
       "  </tbody>\n",
       "</table>\n",
       "</div>"
      ],
      "text/plain": [
       "    Temperature             Locations  Humidity  Latitude  Longitude  \\\n",
       "0         60.69          malveira, pt        93     38.93      -9.26   \n",
       "1         56.39          kastella, gr        93     38.57      23.63   \n",
       "2         42.84          lakewood, us        48     41.48     -81.80   \n",
       "3         46.62          dornesti, ro        81     47.87      26.02   \n",
       "4         71.60             ipero, br        43    -23.35     -47.68   \n",
       "5         53.98  brodek u prerova, cz        99     49.48      17.34   \n",
       "6         46.20        dumbraveni, ro        87     46.23      24.57   \n",
       "7         81.59          la palma, pa        73      8.40     -78.15   \n",
       "8         42.80  imeni vorovskogo, ru       100     55.73      38.32   \n",
       "9         54.00             niort, fr        87     46.32      -0.46   \n",
       "10        72.63         hurricane, us        15     37.18    -113.29   \n",
       "11        73.15      el guantillo, hn        94     14.60     -87.30   \n",
       "12        53.28           stekene, be        85     51.20       4.03   \n",
       "13        61.99            capaci, it        72     38.17      13.23   \n",
       "14        79.65       san vicente, ph        73     18.51     122.15   \n",
       "15        75.20             colon, cu       100     22.72     -80.91   \n",
       "16        55.58          brosteni, ro        67     44.76      22.98   \n",
       "17        55.33              lugo, it        93     44.42      11.90   \n",
       "18        41.02           pucheni, ro        83     45.18      25.28   \n",
       "19        52.20       dunafoldvar, hu       100     46.81      18.93   \n",
       "\n",
       "    Wind Speed  Cloudiness  \n",
       "0        12.75          75  \n",
       "1         2.13          40  \n",
       "2        16.11          90  \n",
       "3         6.93          75  \n",
       "4        17.22          20  \n",
       "5         1.99         100  \n",
       "6         4.70          90  \n",
       "7        12.39          72  \n",
       "8         6.71          90  \n",
       "9         3.00          99  \n",
       "10       16.11          40  \n",
       "11       13.87          75  \n",
       "12        4.00           0  \n",
       "13        9.17           0  \n",
       "14       13.89         100  \n",
       "15       17.22          75  \n",
       "16        1.34         100  \n",
       "17        1.01          93  \n",
       "18        1.01         100  \n",
       "19        2.24          75  "
      ]
     },
     "execution_count": 72,
     "metadata": {},
     "output_type": "execute_result"
    }
   ],
   "source": [
    "#weather_data\n",
    "humidities = []\n",
    "latitudes = []\n",
    "longitudes = []\n",
    "wind_speeds = []\n",
    "cloudiness = []\n",
    "for i in responses:\n",
    "    \n",
    "    humidities.append(i['main']['humidity'])\n",
    "    latitudes.append(i['coord']['lat'])\n",
    "    longitudes.append(i['coord']['lon'])\n",
    "    wind_speeds.append(i['wind']['speed'])\n",
    "    cloudiness.append(i['clouds']['all'])\n",
    "    #print(json.dumps(i, indent = 1)) \n",
    "\n",
    "\n",
    "weather_df = pd.DataFrame(columns=['Temperature','Locations', 'Humidity', 'Latitude', \n",
    "                        'Longitude','Wind Speed', 'Cloudiness'])\n",
    "weather_df[\"Temperature\"] = weather_data.values()\n",
    "weather_df[\"Locations\"] = weather_data.keys()\n",
    "weather_df[\"Humidity\"] = humidities\n",
    "weather_df[\"Latitude\"] = latitudes\n",
    "weather_df[\"Longitude\"] = longitudes\n",
    "weather_df[\"Wind Speed\"] = wind_speeds\n",
    "weather_df[\"Cloudiness\"] = cloudiness\n",
    "weather_df"
   ]
  },
  {
   "cell_type": "code",
   "execution_count": null,
   "metadata": {},
   "outputs": [],
   "source": []
  },
  {
   "cell_type": "code",
   "execution_count": null,
   "metadata": {},
   "outputs": [],
   "source": []
  },
  {
   "cell_type": "markdown",
   "metadata": {},
   "source": [
    "## Inspect the data and remove the cities where the humidity > 100%.\n",
    "----\n",
    "Skip this step if there are no cities that have humidity > 100%. "
   ]
  },
  {
   "cell_type": "code",
   "execution_count": null,
   "metadata": {},
   "outputs": [],
   "source": []
  },
  {
   "cell_type": "code",
   "execution_count": 73,
   "metadata": {},
   "outputs": [
    {
     "data": {
      "text/plain": [
       "[]"
      ]
     },
     "execution_count": 73,
     "metadata": {},
     "output_type": "execute_result"
    }
   ],
   "source": [
    "#  Get the indices of cities that have humidity over 100%.\n",
    "indexes = []\n",
    "current = 0\n",
    "for i in responses:\n",
    "    \n",
    "    #print(f\"The humidity is: {i['main']['humidity']}\")\n",
    "    if i['main']['humidity'] > 100:\n",
    "        indexes.append(current)\n",
    "        current+=1\n",
    "        \n",
    "indexes  "
   ]
  },
  {
   "cell_type": "code",
   "execution_count": 74,
   "metadata": {},
   "outputs": [
    {
     "data": {
      "text/html": [
       "<div>\n",
       "<style scoped>\n",
       "    .dataframe tbody tr th:only-of-type {\n",
       "        vertical-align: middle;\n",
       "    }\n",
       "\n",
       "    .dataframe tbody tr th {\n",
       "        vertical-align: top;\n",
       "    }\n",
       "\n",
       "    .dataframe thead th {\n",
       "        text-align: right;\n",
       "    }\n",
       "</style>\n",
       "<table border=\"1\" class=\"dataframe\">\n",
       "  <thead>\n",
       "    <tr style=\"text-align: right;\">\n",
       "      <th></th>\n",
       "      <th>Temperature</th>\n",
       "      <th>Locations</th>\n",
       "      <th>Humidity</th>\n",
       "      <th>Latitude</th>\n",
       "      <th>Longitude</th>\n",
       "      <th>Wind Speed</th>\n",
       "      <th>Cloudiness</th>\n",
       "    </tr>\n",
       "  </thead>\n",
       "  <tbody>\n",
       "    <tr>\n",
       "      <th>0</th>\n",
       "      <td>60.69</td>\n",
       "      <td>malveira, pt</td>\n",
       "      <td>93</td>\n",
       "      <td>38.93</td>\n",
       "      <td>-9.26</td>\n",
       "      <td>12.75</td>\n",
       "      <td>75</td>\n",
       "    </tr>\n",
       "    <tr>\n",
       "      <th>1</th>\n",
       "      <td>56.39</td>\n",
       "      <td>kastella, gr</td>\n",
       "      <td>93</td>\n",
       "      <td>38.57</td>\n",
       "      <td>23.63</td>\n",
       "      <td>2.13</td>\n",
       "      <td>40</td>\n",
       "    </tr>\n",
       "    <tr>\n",
       "      <th>2</th>\n",
       "      <td>42.84</td>\n",
       "      <td>lakewood, us</td>\n",
       "      <td>48</td>\n",
       "      <td>41.48</td>\n",
       "      <td>-81.80</td>\n",
       "      <td>16.11</td>\n",
       "      <td>90</td>\n",
       "    </tr>\n",
       "    <tr>\n",
       "      <th>3</th>\n",
       "      <td>46.62</td>\n",
       "      <td>dornesti, ro</td>\n",
       "      <td>81</td>\n",
       "      <td>47.87</td>\n",
       "      <td>26.02</td>\n",
       "      <td>6.93</td>\n",
       "      <td>75</td>\n",
       "    </tr>\n",
       "    <tr>\n",
       "      <th>4</th>\n",
       "      <td>71.60</td>\n",
       "      <td>ipero, br</td>\n",
       "      <td>43</td>\n",
       "      <td>-23.35</td>\n",
       "      <td>-47.68</td>\n",
       "      <td>17.22</td>\n",
       "      <td>20</td>\n",
       "    </tr>\n",
       "    <tr>\n",
       "      <th>5</th>\n",
       "      <td>53.98</td>\n",
       "      <td>brodek u prerova, cz</td>\n",
       "      <td>99</td>\n",
       "      <td>49.48</td>\n",
       "      <td>17.34</td>\n",
       "      <td>1.99</td>\n",
       "      <td>100</td>\n",
       "    </tr>\n",
       "    <tr>\n",
       "      <th>6</th>\n",
       "      <td>46.20</td>\n",
       "      <td>dumbraveni, ro</td>\n",
       "      <td>87</td>\n",
       "      <td>46.23</td>\n",
       "      <td>24.57</td>\n",
       "      <td>4.70</td>\n",
       "      <td>90</td>\n",
       "    </tr>\n",
       "    <tr>\n",
       "      <th>7</th>\n",
       "      <td>81.59</td>\n",
       "      <td>la palma, pa</td>\n",
       "      <td>73</td>\n",
       "      <td>8.40</td>\n",
       "      <td>-78.15</td>\n",
       "      <td>12.39</td>\n",
       "      <td>72</td>\n",
       "    </tr>\n",
       "    <tr>\n",
       "      <th>8</th>\n",
       "      <td>42.80</td>\n",
       "      <td>imeni vorovskogo, ru</td>\n",
       "      <td>100</td>\n",
       "      <td>55.73</td>\n",
       "      <td>38.32</td>\n",
       "      <td>6.71</td>\n",
       "      <td>90</td>\n",
       "    </tr>\n",
       "    <tr>\n",
       "      <th>9</th>\n",
       "      <td>54.00</td>\n",
       "      <td>niort, fr</td>\n",
       "      <td>87</td>\n",
       "      <td>46.32</td>\n",
       "      <td>-0.46</td>\n",
       "      <td>3.00</td>\n",
       "      <td>99</td>\n",
       "    </tr>\n",
       "    <tr>\n",
       "      <th>10</th>\n",
       "      <td>72.63</td>\n",
       "      <td>hurricane, us</td>\n",
       "      <td>15</td>\n",
       "      <td>37.18</td>\n",
       "      <td>-113.29</td>\n",
       "      <td>16.11</td>\n",
       "      <td>40</td>\n",
       "    </tr>\n",
       "    <tr>\n",
       "      <th>11</th>\n",
       "      <td>73.15</td>\n",
       "      <td>el guantillo, hn</td>\n",
       "      <td>94</td>\n",
       "      <td>14.60</td>\n",
       "      <td>-87.30</td>\n",
       "      <td>13.87</td>\n",
       "      <td>75</td>\n",
       "    </tr>\n",
       "    <tr>\n",
       "      <th>12</th>\n",
       "      <td>53.28</td>\n",
       "      <td>stekene, be</td>\n",
       "      <td>85</td>\n",
       "      <td>51.20</td>\n",
       "      <td>4.03</td>\n",
       "      <td>4.00</td>\n",
       "      <td>0</td>\n",
       "    </tr>\n",
       "    <tr>\n",
       "      <th>13</th>\n",
       "      <td>61.99</td>\n",
       "      <td>capaci, it</td>\n",
       "      <td>72</td>\n",
       "      <td>38.17</td>\n",
       "      <td>13.23</td>\n",
       "      <td>9.17</td>\n",
       "      <td>0</td>\n",
       "    </tr>\n",
       "    <tr>\n",
       "      <th>14</th>\n",
       "      <td>79.65</td>\n",
       "      <td>san vicente, ph</td>\n",
       "      <td>73</td>\n",
       "      <td>18.51</td>\n",
       "      <td>122.15</td>\n",
       "      <td>13.89</td>\n",
       "      <td>100</td>\n",
       "    </tr>\n",
       "    <tr>\n",
       "      <th>15</th>\n",
       "      <td>75.20</td>\n",
       "      <td>colon, cu</td>\n",
       "      <td>100</td>\n",
       "      <td>22.72</td>\n",
       "      <td>-80.91</td>\n",
       "      <td>17.22</td>\n",
       "      <td>75</td>\n",
       "    </tr>\n",
       "    <tr>\n",
       "      <th>16</th>\n",
       "      <td>55.58</td>\n",
       "      <td>brosteni, ro</td>\n",
       "      <td>67</td>\n",
       "      <td>44.76</td>\n",
       "      <td>22.98</td>\n",
       "      <td>1.34</td>\n",
       "      <td>100</td>\n",
       "    </tr>\n",
       "    <tr>\n",
       "      <th>17</th>\n",
       "      <td>55.33</td>\n",
       "      <td>lugo, it</td>\n",
       "      <td>93</td>\n",
       "      <td>44.42</td>\n",
       "      <td>11.90</td>\n",
       "      <td>1.01</td>\n",
       "      <td>93</td>\n",
       "    </tr>\n",
       "    <tr>\n",
       "      <th>18</th>\n",
       "      <td>41.02</td>\n",
       "      <td>pucheni, ro</td>\n",
       "      <td>83</td>\n",
       "      <td>45.18</td>\n",
       "      <td>25.28</td>\n",
       "      <td>1.01</td>\n",
       "      <td>100</td>\n",
       "    </tr>\n",
       "    <tr>\n",
       "      <th>19</th>\n",
       "      <td>52.20</td>\n",
       "      <td>dunafoldvar, hu</td>\n",
       "      <td>100</td>\n",
       "      <td>46.81</td>\n",
       "      <td>18.93</td>\n",
       "      <td>2.24</td>\n",
       "      <td>75</td>\n",
       "    </tr>\n",
       "  </tbody>\n",
       "</table>\n",
       "</div>"
      ],
      "text/plain": [
       "    Temperature             Locations  Humidity  Latitude  Longitude  \\\n",
       "0         60.69          malveira, pt        93     38.93      -9.26   \n",
       "1         56.39          kastella, gr        93     38.57      23.63   \n",
       "2         42.84          lakewood, us        48     41.48     -81.80   \n",
       "3         46.62          dornesti, ro        81     47.87      26.02   \n",
       "4         71.60             ipero, br        43    -23.35     -47.68   \n",
       "5         53.98  brodek u prerova, cz        99     49.48      17.34   \n",
       "6         46.20        dumbraveni, ro        87     46.23      24.57   \n",
       "7         81.59          la palma, pa        73      8.40     -78.15   \n",
       "8         42.80  imeni vorovskogo, ru       100     55.73      38.32   \n",
       "9         54.00             niort, fr        87     46.32      -0.46   \n",
       "10        72.63         hurricane, us        15     37.18    -113.29   \n",
       "11        73.15      el guantillo, hn        94     14.60     -87.30   \n",
       "12        53.28           stekene, be        85     51.20       4.03   \n",
       "13        61.99            capaci, it        72     38.17      13.23   \n",
       "14        79.65       san vicente, ph        73     18.51     122.15   \n",
       "15        75.20             colon, cu       100     22.72     -80.91   \n",
       "16        55.58          brosteni, ro        67     44.76      22.98   \n",
       "17        55.33              lugo, it        93     44.42      11.90   \n",
       "18        41.02           pucheni, ro        83     45.18      25.28   \n",
       "19        52.20       dunafoldvar, hu       100     46.81      18.93   \n",
       "\n",
       "    Wind Speed  Cloudiness  \n",
       "0        12.75          75  \n",
       "1         2.13          40  \n",
       "2        16.11          90  \n",
       "3         6.93          75  \n",
       "4        17.22          20  \n",
       "5         1.99         100  \n",
       "6         4.70          90  \n",
       "7        12.39          72  \n",
       "8         6.71          90  \n",
       "9         3.00          99  \n",
       "10       16.11          40  \n",
       "11       13.87          75  \n",
       "12        4.00           0  \n",
       "13        9.17           0  \n",
       "14       13.89         100  \n",
       "15       17.22          75  \n",
       "16        1.34         100  \n",
       "17        1.01          93  \n",
       "18        1.01         100  \n",
       "19        2.24          75  "
      ]
     },
     "execution_count": 74,
     "metadata": {},
     "output_type": "execute_result"
    }
   ],
   "source": [
    "# Make a new DataFrame equal to the city data to drop all humidity outliers by index.\n",
    "# Passing \"inplace=False\" will make a copy of the city_data DataFrame, which we call \"clean_city_data\".\n",
    "weather_df = weather_df.drop(indexes)\n",
    "weather_df"
   ]
  },
  {
   "cell_type": "code",
   "execution_count": 75,
   "metadata": {},
   "outputs": [],
   "source": [
    "weather_df.to_csv('weather.csv') \n"
   ]
  },
  {
   "cell_type": "markdown",
   "metadata": {},
   "source": [
    "## Plotting the Data\n",
    "* Use proper labeling of the plots using plot titles (including date of analysis) and axes labels.\n",
    "* Save the plotted figures as .pngs."
   ]
  },
  {
   "cell_type": "markdown",
   "metadata": {},
   "source": [
    "## Latitude vs. Temperature Plot"
   ]
  },
  {
   "cell_type": "code",
   "execution_count": 76,
   "metadata": {
    "scrolled": true
   },
   "outputs": [
    {
     "data": {
      "image/png": "[encoded data removed]",
      "text/plain": [
       "<Figure size 432x288 with 1 Axes>"
      ]
     },
     "metadata": {
      "needs_background": "light"
     },
     "output_type": "display_data"
    }
   ],
   "source": [
    "plt.scatter(weather_df['Latitude'],weather_df['Temperature'])\n",
    "plt.xlabel('Latitude')\n",
    "plt.ylabel('Temperature')\n",
    "plt.suptitle(\"Latitude vs Temperature plot\")\n",
    "plt.savefig(\"LatTempScatter.png\")\n",
    "plt.show()"
   ]
  },
  {
   "cell_type": "markdown",
   "metadata": {},
   "source": [
    "## Latitude vs. Humidity Plot"
   ]
  },
  {
   "cell_type": "code",
   "execution_count": 77,
   "metadata": {},
   "outputs": [
    {
     "data": {
      "image/png": "[encoded data removed]",
      "text/plain": [
       "<Figure size 432x288 with 1 Axes>"
      ]
     },
     "metadata": {
      "needs_background": "light"
     },
     "output_type": "display_data"
    }
   ],
   "source": [
    "plt.scatter(weather_df['Latitude'],weather_df['Humidity'])\n",
    "plt.xlabel('Latitude')\n",
    "plt.ylabel('Humidity')\n",
    "plt.suptitle(\"Latitude vs Humidity plot\")\n",
    "plt.savefig(\"LatHumidityScatter.png\")\n",
    "plt.show()"
   ]
  },
  {
   "cell_type": "markdown",
   "metadata": {},
   "source": [
    "## Latitude vs. Cloudiness Plot"
   ]
  },
  {
   "cell_type": "code",
   "execution_count": 78,
   "metadata": {},
   "outputs": [
    {
     "data": {
      "image/png": "[encoded data removed]",
      "text/plain": [
       "<Figure size 432x288 with 1 Axes>"
      ]
     },
     "metadata": {
      "needs_background": "light"
     },
     "output_type": "display_data"
    }
   ],
   "source": [
    "plt.scatter(weather_df['Latitude'],weather_df['Cloudiness'])\n",
    "plt.xlabel('Latitude')\n",
    "plt.ylabel('Cloudiness')\n",
    "plt.suptitle(\"Latitude vs Cloudiness plot\")\n",
    "plt.savefig(\"LatCloudinessScatter.png\")\n",
    "plt.show()"
   ]
  },
  {
   "cell_type": "markdown",
   "metadata": {},
   "source": [
    "## Latitude vs. Wind Speed Plot"
   ]
  },
  {
   "cell_type": "code",
   "execution_count": 79,
   "metadata": {},
   "outputs": [
    {
     "data": {
      "image/png": "[encoded data removed]",
      "text/plain": [
       "<Figure size 432x288 with 1 Axes>"
      ]
     },
     "metadata": {
      "needs_background": "light"
     },
     "output_type": "display_data"
    }
   ],
   "source": [
    "plt.scatter(weather_df['Latitude'],weather_df['Wind Speed'])\n",
    "plt.xlabel('Latitude')\n",
    "plt.ylabel('Wind Speed')\n",
    "plt.suptitle(\"Latitude vs Wind Speed plot\")\n",
    "plt.savefig(\"LatWindSpeedScatter.png\")\n",
    "plt.show()"
   ]
  },
  {
   "cell_type": "markdown",
   "metadata": {},
   "source": [
    "## Linear Regression"
   ]
  },
  {
   "cell_type": "code",
   "execution_count": 80,
   "metadata": {},
   "outputs": [],
   "source": [
    "#df.loc[df['shield'] > 35] = 0\n",
    "\n",
    "NorthernHemisphere = weather_df['Latitude'].loc[weather_df['Latitude'] >= 0]\n",
    "NorthernIndexes = NorthernHemisphere.index\n",
    "\n",
    "SouthernHemisphere = weather_df['Latitude'].loc[weather_df['Latitude'] < 0]\n",
    "SouthernIndexes = SouthernHemisphere.index\n"
   ]
  },
  {
   "cell_type": "markdown",
   "metadata": {},
   "source": [
    "####  Northern Hemisphere - Max Temp vs. Latitude Linear Regression"
   ]
  },
  {
   "cell_type": "code",
   "execution_count": 81,
   "metadata": {},
   "outputs": [
    {
     "name": "stdout",
     "output_type": "stream",
     "text": [
      "0     36.483920\n",
      "1     40.371178\n",
      "2     52.620560\n",
      "3     49.203389\n",
      "5     42.549850\n",
      "6     49.583075\n",
      "7     17.590038\n",
      "8     52.656721\n",
      "9     42.531770\n",
      "10    25.689999\n",
      "11    25.219912\n",
      "12    43.182660\n",
      "13    35.308702\n",
      "14    19.343824\n",
      "15    23.366684\n",
      "16    41.103429\n",
      "17    41.329432\n",
      "18    54.265865\n",
      "19    44.158994\n",
      "Name: Temperature, dtype: float64\n",
      "y = -0.9x +91.35\n"
     ]
    },
    {
     "data": {
      "image/png": "[encoded data removed]",
      "text/plain": [
       "<Figure size 432x288 with 1 Axes>"
      ]
     },
     "metadata": {
      "needs_background": "light"
     },
     "output_type": "display_data"
    }
   ],
   "source": [
    "plt.scatter(weather_df['Temperature'][NorthernIndexes],weather_df['Latitude'][NorthernIndexes])\n",
    "plt.xlabel('Temperature')\n",
    "plt.ylabel('Latitude')\n",
    "plt.suptitle(\"Northern Hemisphere Temperature vs Latitude Linear Regression plot\")\n",
    "\n",
    "(slope, intercept, rvalue, pvalue, stderr) = stats.linregress(weather_df['Temperature'][NorthernIndexes], \n",
    "                                            weather_df['Latitude'][NorthernIndexes])\n",
    "\n",
    "\n",
    "regress_values = weather_df['Temperature'][NorthernIndexes] * slope + intercept\n",
    "print(regress_values)\n",
    "\n",
    "line_eq = \"y = \" + str(round(slope,2)) + \"x +\" + str(round(intercept,2))\n",
    "print(line_eq)\n",
    "\n",
    "plt.show()"
   ]
  },
  {
   "cell_type": "markdown",
   "metadata": {},
   "source": [
    "####  Southern Hemisphere - Max Temp vs. Latitude Linear Regression"
   ]
  },
  {
   "cell_type": "code",
   "execution_count": 82,
   "metadata": {},
   "outputs": [
    {
     "name": "stdout",
     "output_type": "stream",
     "text": [
      "4   NaN\n",
      "Name: Temperature, dtype: float64\n",
      "y = nanx +nan\n"
     ]
    },
    {
     "name": "stderr",
     "output_type": "stream",
     "text": [
      "/Users/jbeachy/opt/anaconda3/lib/python3.8/site-packages/scipy/stats/_stats_mstats_common.py:130: RuntimeWarning: invalid value encountered in double_scalars\n",
      "  slope = r_num / ssxm\n",
      "/Users/jbeachy/opt/anaconda3/lib/python3.8/site-packages/scipy/stats/_stats_mstats_common.py:140: RuntimeWarning: invalid value encountered in sqrt\n",
      "  t = r * np.sqrt(df / ((1.0 - r + TINY)*(1.0 + r + TINY)))\n",
      "/Users/jbeachy/opt/anaconda3/lib/python3.8/site-packages/scipy/stats/_stats_mstats_common.py:142: RuntimeWarning: invalid value encountered in double_scalars\n",
      "  sterrest = np.sqrt((1 - r**2) * ssym / ssxm / df)\n"
     ]
    },
    {
     "data": {
      "image/png": "[encoded data removed]",
      "text/plain": [
       "<Figure size 432x288 with 1 Axes>"
      ]
     },
     "metadata": {
      "needs_background": "light"
     },
     "output_type": "display_data"
    }
   ],
   "source": [
    "plt.scatter(weather_df['Temperature'][SouthernIndexes],weather_df['Latitude'][SouthernIndexes])\n",
    "plt.xlabel('Temperature')\n",
    "plt.ylabel('Latitude')\n",
    "plt.suptitle(\"Southern Hemisphere Temperature vs Latitude Linear Regression plot\")\n",
    "\n",
    "\n",
    "(slope, intercept, rvalue, pvalue, stderr) = stats.linregress(weather_df['Temperature'][SouthernIndexes], \n",
    "                                            weather_df['Latitude'][SouthernIndexes])\n",
    "\n",
    "regress_values = weather_df['Temperature'][SouthernIndexes] * slope + intercept\n",
    "print(regress_values)\n",
    "\n",
    "line_eq = \"y = \" + str(round(slope,2)) + \"x +\" + str(round(intercept,2))\n",
    "print(line_eq)\n",
    "\n",
    "plt.show()"
   ]
  },
  {
   "cell_type": "markdown",
   "metadata": {},
   "source": [
    "####  Northern Hemisphere - Humidity (%) vs. Latitude Linear Regression"
   ]
  },
  {
   "cell_type": "code",
   "execution_count": 83,
   "metadata": {},
   "outputs": [
    {
     "name": "stdout",
     "output_type": "stream",
     "text": [
      "0     39.671969\n",
      "1     39.671969\n",
      "2     36.215123\n",
      "3     38.750143\n",
      "5     40.132882\n",
      "6     39.211056\n",
      "7     38.135593\n",
      "8     40.209701\n",
      "9     39.211056\n",
      "10    33.680103\n",
      "11    39.748788\n",
      "12    39.057419\n",
      "13    38.058774\n",
      "14    38.135593\n",
      "15    40.209701\n",
      "16    37.674680\n",
      "17    39.671969\n",
      "18    38.903781\n",
      "19    40.209701\n",
      "Name: Humidity, dtype: float64\n",
      "y = 0.08x +32.53\n"
     ]
    },
    {
     "data": {
      "image/png": "[encoded data removed]",
      "text/plain": [
       "<Figure size 432x288 with 1 Axes>"
      ]
     },
     "metadata": {
      "needs_background": "light"
     },
     "output_type": "display_data"
    }
   ],
   "source": [
    "plt.scatter(weather_df['Humidity'][NorthernIndexes],weather_df['Latitude'][NorthernIndexes])\n",
    "plt.xlabel('Humidity')\n",
    "plt.ylabel('Latitude')\n",
    "plt.suptitle(\"Northern Hemisphere Humidity vs Latitude Linear Regression plot\")\n",
    "\n",
    "(slope, intercept, rvalue, pvalue, stderr) = stats.linregress(weather_df['Humidity'][NorthernIndexes], \n",
    "                                            weather_df['Latitude'][NorthernIndexes])\n",
    "\n",
    "regress_values = weather_df['Humidity'][NorthernIndexes] * slope + intercept\n",
    "print(regress_values)\n",
    "\n",
    "\n",
    "line_eq = \"y = \" + str(round(slope,2)) + \"x +\" + str(round(intercept,2))\n",
    "print(line_eq)\n",
    "\n",
    "plt.show()"
   ]
  },
  {
   "cell_type": "markdown",
   "metadata": {},
   "source": [
    "####  Southern Hemisphere - Humidity (%) vs. Latitude Linear Regression"
   ]
  },
  {
   "cell_type": "code",
   "execution_count": 84,
   "metadata": {},
   "outputs": [
    {
     "name": "stdout",
     "output_type": "stream",
     "text": [
      "4   NaN\n",
      "Name: Humidity, dtype: float64\n",
      "y = nanx +nan\n"
     ]
    },
    {
     "data": {
      "image/png": "[encoded data removed]",
      "text/plain": [
       "<Figure size 432x288 with 1 Axes>"
      ]
     },
     "metadata": {
      "needs_background": "light"
     },
     "output_type": "display_data"
    }
   ],
   "source": [
    "plt.scatter(weather_df['Humidity'][SouthernIndexes],weather_df['Latitude'][SouthernIndexes])\n",
    "plt.xlabel('Humidity')\n",
    "plt.ylabel('Latitude')\n",
    "plt.suptitle(\"Southern Hemisphere Humidity vs Latitude plot\")\n",
    "\n",
    "\n",
    "(slope, intercept, rvalue, pvalue, stderr) = stats.linregress(weather_df['Humidity'][SouthernIndexes], \n",
    "                                            weather_df['Latitude'][SouthernIndexes])\n",
    "\n",
    "\n",
    "regress_values = weather_df['Humidity'][SouthernIndexes] * slope + intercept\n",
    "print(regress_values)\n",
    "\n",
    "\n",
    "line_eq = \"y = \" + str(round(slope,2)) + \"x +\" + str(round(intercept,2))\n",
    "print(line_eq)\n",
    "\n",
    "plt.show()"
   ]
  },
  {
   "cell_type": "markdown",
   "metadata": {},
   "source": [
    "####  Northern Hemisphere - Cloudiness (%) vs. Latitude Linear Regression"
   ]
  },
  {
   "cell_type": "code",
   "execution_count": 85,
   "metadata": {},
   "outputs": [
    {
     "name": "stdout",
     "output_type": "stream",
     "text": [
      "0     38.769255\n",
      "1     38.714969\n",
      "2     38.792520\n",
      "3     38.769255\n",
      "5     38.808030\n",
      "6     38.792520\n",
      "7     38.764602\n",
      "8     38.792520\n",
      "9     38.806479\n",
      "10    38.714969\n",
      "11    38.769255\n",
      "12    38.652929\n",
      "13    38.652929\n",
      "14    38.808030\n",
      "15    38.769255\n",
      "16    38.808030\n",
      "17    38.797173\n",
      "18    38.808030\n",
      "19    38.769255\n",
      "Name: Cloudiness, dtype: float64\n",
      "y = 0.0x +38.65\n"
     ]
    },
    {
     "data": {
      "image/png": "[encoded data removed]",
      "text/plain": [
       "<Figure size 432x288 with 1 Axes>"
      ]
     },
     "metadata": {
      "needs_background": "light"
     },
     "output_type": "display_data"
    }
   ],
   "source": [
    "plt.scatter(weather_df['Cloudiness'][NorthernIndexes],weather_df['Latitude'][NorthernIndexes])\n",
    "plt.xlabel('Cloudiness')\n",
    "plt.ylabel('Latitude')\n",
    "plt.suptitle(\"Northern Hemisphere Cloudiness vs Latitude Linear Regression plot\")\n",
    "\n",
    "\n",
    "(slope, intercept, rvalue, pvalue, stderr) = stats.linregress(weather_df['Cloudiness'][NorthernIndexes], \n",
    "                                            weather_df['Latitude'][NorthernIndexes])\n",
    "\n",
    "regress_values = weather_df['Cloudiness'][NorthernIndexes] * slope + intercept\n",
    "print(regress_values)\n",
    "\n",
    "\n",
    "line_eq = \"y = \" + str(round(slope,2)) + \"x +\" + str(round(intercept,2))\n",
    "print(line_eq)\n",
    "\n",
    "plt.show()"
   ]
  },
  {
   "cell_type": "markdown",
   "metadata": {},
   "source": [
    "####  Southern Hemisphere - Cloudiness (%) vs. Latitude Linear Regression"
   ]
  },
  {
   "cell_type": "code",
   "execution_count": 86,
   "metadata": {},
   "outputs": [
    {
     "name": "stdout",
     "output_type": "stream",
     "text": [
      "4   NaN\n",
      "Name: Cloudiness, dtype: float64\n",
      "x = 0\n"
     ]
    },
    {
     "data": {
      "image/png": "[encoded data removed]",
      "text/plain": [
       "<Figure size 432x288 with 1 Axes>"
      ]
     },
     "metadata": {
      "needs_background": "light"
     },
     "output_type": "display_data"
    }
   ],
   "source": [
    "plt.scatter(weather_df['Cloudiness'][SouthernIndexes],weather_df['Latitude'][SouthernIndexes])\n",
    "plt.xlabel('Cloudiness')\n",
    "plt.ylabel('Latitude')\n",
    "plt.suptitle(\"Southern Hemisphere Cloudiness vs Latitude Linear Regression plot\")\n",
    "\n",
    "\n",
    "(slope, intercept, rvalue, pvalue, stderr) = stats.linregress(weather_df['Cloudiness'][SouthernIndexes], \n",
    "                                            weather_df['Latitude'][SouthernIndexes])\n",
    "\n",
    "regress_values = weather_df['Cloudiness'][SouthernIndexes] * slope + intercept\n",
    "print(regress_values)\n",
    "\n",
    " \n",
    " \n",
    "if math.isnan(slope):\n",
    "    print(f\"x = 0\")\n",
    "else:\n",
    "    line_eq = \"y = \" + str(round(slope,2)) + \"x +\" + str(round(intercept,2))\n",
    "    print(line_eq)\n",
    "\n",
    "plt.show()"
   ]
  },
  {
   "cell_type": "markdown",
   "metadata": {},
   "source": [
    "####  Northern Hemisphere - Wind Speed (mph) vs. Latitude Linear Regression"
   ]
  },
  {
   "cell_type": "code",
   "execution_count": 87,
   "metadata": {},
   "outputs": [
    {
     "name": "stdout",
     "output_type": "stream",
     "text": [
      "0     31.461508\n",
      "1     46.866652\n",
      "2     26.587564\n",
      "3     39.903875\n",
      "5     47.069733\n",
      "6     43.138665\n",
      "7     31.983716\n",
      "8     40.223002\n",
      "9     45.604648\n",
      "10    26.587564\n",
      "11    29.836860\n",
      "12    44.154070\n",
      "13    36.654579\n",
      "14    29.807848\n",
      "15    24.977422\n",
      "16    48.012609\n",
      "17    48.491300\n",
      "18    48.491300\n",
      "19    46.707088\n",
      "Name: Wind Speed, dtype: float64\n",
      "y = -1.45x +49.96\n"
     ]
    },
    {
     "data": {
      "image/png": "[encoded data removed]",
      "text/plain": [
       "<Figure size 432x288 with 1 Axes>"
      ]
     },
     "metadata": {
      "needs_background": "light"
     },
     "output_type": "display_data"
    }
   ],
   "source": [
    "plt.scatter(weather_df['Wind Speed'][NorthernIndexes],weather_df['Latitude'][NorthernIndexes])\n",
    "plt.xlabel('Wind Speed')\n",
    "plt.ylabel('Latitude')\n",
    "plt.suptitle(\"Northern Hemisphere Wind Speed vs Latitude Linear Regression plot\")\n",
    "\n",
    "\n",
    "(slope, intercept, rvalue, pvalue, stderr) = stats.linregress(weather_df['Wind Speed'][NorthernIndexes], \n",
    "                                            weather_df['Latitude'][NorthernIndexes])\n",
    "\n",
    "regress_values = weather_df['Wind Speed'][NorthernIndexes] * slope + intercept\n",
    "print(regress_values)\n",
    "\n",
    "\n",
    "line_eq = \"y = \" + str(round(slope,2)) + \"x +\" + str(round(intercept,2))\n",
    "print(line_eq)\n",
    "\n",
    "plt.show()"
   ]
  },
  {
   "cell_type": "markdown",
   "metadata": {},
   "source": [
    "####  Southern Hemisphere - Wind Speed (mph) vs. Latitude Linear Regression"
   ]
  },
  {
   "cell_type": "code",
   "execution_count": 88,
   "metadata": {},
   "outputs": [
    {
     "name": "stdout",
     "output_type": "stream",
     "text": [
      "4   NaN\n",
      "Name: Wind Speed, dtype: float64\n",
      "y = nanx +nan\n"
     ]
    },
    {
     "data": {
      "image/png": "[encoded data removed]",
      "text/plain": [
       "<Figure size 432x288 with 1 Axes>"
      ]
     },
     "metadata": {
      "needs_background": "light"
     },
     "output_type": "display_data"
    }
   ],
   "source": [
    "plt.scatter(weather_df['Wind Speed'][SouthernIndexes],weather_df['Latitude'][SouthernIndexes])\n",
    "plt.xlabel('Wind Speed')\n",
    "plt.ylabel('Latitude')\n",
    "plt.suptitle(\"Southern Hemisphere Wind Speed vs Latitude Linear Regression plot\")\n",
    "\n",
    "\n",
    "(slope, intercept, rvalue, pvalue, stderr) = stats.linregress(weather_df['Wind Speed'][SouthernIndexes], \n",
    "                                            weather_df['Latitude'][SouthernIndexes])\n",
    "\n",
    "regress_values = weather_df['Wind Speed'][SouthernIndexes] * slope + intercept\n",
    "print(regress_values)\n",
    "\n",
    "\n",
    "line_eq = \"y = \" + str(round(slope,2)) + \"x +\" + str(round(intercept,2))\n",
    "print(line_eq)\n",
    "\n",
    "plt.show()"
   ]
  },
  {
   "cell_type": "code",
   "execution_count": null,
   "metadata": {},
   "outputs": [],
   "source": []
  },
  {
   "cell_type": "code",
   "execution_count": null,
   "metadata": {},
   "outputs": [],
   "source": []
  }
 ],
 "metadata": {
  "anaconda-cloud": {},
  "kernel_info": {
   "name": "python3"
  },
  "kernelspec": {
   "display_name": "Python 3",
   "language": "python",
   "name": "python3"
  },
  "language_info": {
   "codemirror_mode": {
    "name": "ipython",
    "version": 3
   },
   "file_extension": ".py",
   "mimetype": "text/x-python",
   "name": "python",
   "nbconvert_exporter": "python",
   "pygments_lexer": "ipython3",
   "version": "3.8.3"
  },
  "latex_envs": {
   "LaTeX_envs_menu_present": true,
   "autoclose": false,
   "autocomplete": true,
   "bibliofile": "biblio.bib",
   "cite_by": "apalike",
   "current_citInitial": 1,
   "eqLabelWithNumbers": true,
   "eqNumInitial": 1,
   "hotkeys": {
    "equation": "Ctrl-E",
    "itemize": "Ctrl-I"
   },
   "labels_anchors": false,
   "latex_user_defs": false,
   "report_style_numbering": false,
   "user_envs_cfg": false
  },
  "nteract": {
   "version": "0.12.3"
  }
 },
 "nbformat": 4,
 "nbformat_minor": 2
}
